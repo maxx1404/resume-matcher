{
  "nbformat": 4,
  "nbformat_minor": 0,
  "metadata": {
    "colab": {
      "provenance": [],
      "authorship_tag": "ABX9TyPxR68Ks3ORg85YqElhJNDc",
      "include_colab_link": true
    },
    "kernelspec": {
      "name": "python3",
      "display_name": "Python 3"
    },
    "language_info": {
      "name": "python"
    }
  },
  "cells": [
    {
      "cell_type": "markdown",
      "metadata": {
        "id": "view-in-github",
        "colab_type": "text"
      },
      "source": [
        "<a href=\"https://colab.research.google.com/github/maxx1404/resume-matcher/blob/main/resume.ipynb\" target=\"_parent\"><img src=\"https://colab.research.google.com/assets/colab-badge.svg\" alt=\"Open In Colab\"/></a>"
      ]
    },
    {
      "cell_type": "code",
      "execution_count": null,
      "metadata": {
        "colab": {
          "base_uri": "https://localhost:8080/"
        },
        "id": "RYyjdt2N2IdK",
        "outputId": "6b565bee-e4c3-4ba7-cfc7-25af266425dd"
      },
      "outputs": [
        {
          "output_type": "stream",
          "name": "stdout",
          "text": [
            "Collecting pymupdf\n",
            "  Downloading pymupdf-1.26.1-cp39-abi3-manylinux_2_28_x86_64.whl.metadata (3.4 kB)\n",
            "Downloading pymupdf-1.26.1-cp39-abi3-manylinux_2_28_x86_64.whl (24.1 MB)\n",
            "\u001b[2K   \u001b[90m━━━━━━━━━━━━━━━━━━━━━━━━━━━━━━━━━━━━━━━━\u001b[0m \u001b[32m24.1/24.1 MB\u001b[0m \u001b[31m71.0 MB/s\u001b[0m eta \u001b[36m0:00:00\u001b[0m\n",
            "\u001b[?25hInstalling collected packages: pymupdf\n",
            "Successfully installed pymupdf-1.26.1\n"
          ]
        }
      ],
      "source": [
        "pip install --upgrade pymupdf"
      ]
    },
    {
      "cell_type": "markdown",
      "source": [
        "https://pymupdf.readthedocs.io/en/latest/ -- PyMuPDF documenation\n"
      ],
      "metadata": {
        "id": "KBIkkJw72_C_"
      }
    },
    {
      "cell_type": "code",
      "source": [
        "import pymupdf\n",
        "import fitz"
      ],
      "metadata": {
        "id": "VcO_h2NK5KhP"
      },
      "execution_count": null,
      "outputs": []
    },
    {
      "cell_type": "code",
      "source": [
        "doc = pymupdf.open(\"a.pdf\")\n"
      ],
      "metadata": {
        "id": "Jdqk_dk43vaL"
      },
      "execution_count": null,
      "outputs": []
    }
  ]
}