{
  "nbformat": 4,
  "nbformat_minor": 0,
  "metadata": {
    "colab": {
      "provenance": [],
      "authorship_tag": "ABX9TyNagEglvAQWL8YlZagiLtnc",
      "include_colab_link": true
    },
    "kernelspec": {
      "name": "python3",
      "display_name": "Python 3"
    },
    "language_info": {
      "name": "python"
    }
  },
  "cells": [
    {
      "cell_type": "markdown",
      "metadata": {
        "id": "view-in-github",
        "colab_type": "text"
      },
      "source": [
        "<a href=\"https://colab.research.google.com/github/maxx1404/resume-matcher/blob/main/resume.ipynb\" target=\"_parent\"><img src=\"https://colab.research.google.com/assets/colab-badge.svg\" alt=\"Open In Colab\"/></a>"
      ]
    },
    {
      "cell_type": "code",
      "execution_count": 4,
      "metadata": {
        "colab": {
          "base_uri": "https://localhost:8080/"
        },
        "id": "RYyjdt2N2IdK",
        "outputId": "8a89183b-035b-4a59-d2be-79bd996d1ef6"
      },
      "outputs": [
        {
          "output_type": "stream",
          "name": "stdout",
          "text": [
            "Collecting pymupdf\n",
            "  Downloading pymupdf-1.26.1-cp39-abi3-manylinux_2_28_x86_64.whl.metadata (3.4 kB)\n",
            "Downloading pymupdf-1.26.1-cp39-abi3-manylinux_2_28_x86_64.whl (24.1 MB)\n",
            "\u001b[2K   \u001b[90m━━━━━━━━━━━━━━━━━━━━━━━━━━━━━━━━━━━━━━━━\u001b[0m \u001b[32m24.1/24.1 MB\u001b[0m \u001b[31m61.8 MB/s\u001b[0m eta \u001b[36m0:00:00\u001b[0m\n",
            "\u001b[?25hInstalling collected packages: pymupdf\n",
            "Successfully installed pymupdf-1.26.1\n"
          ]
        }
      ],
      "source": [
        "# Installing all required libraries\n",
        "!pip install pymupdf"
      ]
    },
    {
      "cell_type": "markdown",
      "source": [
        "https://pymupdf.readthedocs.io/en/latest/ -- PyMuPDF documenation\n"
      ],
      "metadata": {
        "id": "KBIkkJw72_C_"
      }
    },
    {
      "cell_type": "code",
      "source": [
        "#import the libraries\n",
        "import fitz\n",
        "import nltk\n",
        "import re\n",
        "from nltk.corpus import stopwords\n",
        "from google.colab import files"
      ],
      "metadata": {
        "id": "VcO_h2NK5KhP"
      },
      "execution_count": 5,
      "outputs": []
    },
    {
      "cell_type": "code",
      "source": [
        "resume_file = files.upload()\n",
        "resume_pdf = list(resume_file.keys())[0]"
      ],
      "metadata": {
        "id": "Jdqk_dk43vaL",
        "colab": {
          "base_uri": "https://localhost:8080/",
          "height": 90
        },
        "outputId": "d2e39e9a-b99c-4df2-8172-4fc13bce512d"
      },
      "execution_count": 6,
      "outputs": [
        {
          "output_type": "display_data",
          "data": {
            "text/plain": [
              "<IPython.core.display.HTML object>"
            ],
            "text/html": [
              "\n",
              "     <input type=\"file\" id=\"files-12c1caa6-b123-490d-9729-78f6e07a82ad\" name=\"files[]\" multiple disabled\n",
              "        style=\"border:none\" />\n",
              "     <output id=\"result-12c1caa6-b123-490d-9729-78f6e07a82ad\">\n",
              "      Upload widget is only available when the cell has been executed in the\n",
              "      current browser session. Please rerun this cell to enable.\n",
              "      </output>\n",
              "      <script>// Copyright 2017 Google LLC\n",
              "//\n",
              "// Licensed under the Apache License, Version 2.0 (the \"License\");\n",
              "// you may not use this file except in compliance with the License.\n",
              "// You may obtain a copy of the License at\n",
              "//\n",
              "//      http://www.apache.org/licenses/LICENSE-2.0\n",
              "//\n",
              "// Unless required by applicable law or agreed to in writing, software\n",
              "// distributed under the License is distributed on an \"AS IS\" BASIS,\n",
              "// WITHOUT WARRANTIES OR CONDITIONS OF ANY KIND, either express or implied.\n",
              "// See the License for the specific language governing permissions and\n",
              "// limitations under the License.\n",
              "\n",
              "/**\n",
              " * @fileoverview Helpers for google.colab Python module.\n",
              " */\n",
              "(function(scope) {\n",
              "function span(text, styleAttributes = {}) {\n",
              "  const element = document.createElement('span');\n",
              "  element.textContent = text;\n",
              "  for (const key of Object.keys(styleAttributes)) {\n",
              "    element.style[key] = styleAttributes[key];\n",
              "  }\n",
              "  return element;\n",
              "}\n",
              "\n",
              "// Max number of bytes which will be uploaded at a time.\n",
              "const MAX_PAYLOAD_SIZE = 100 * 1024;\n",
              "\n",
              "function _uploadFiles(inputId, outputId) {\n",
              "  const steps = uploadFilesStep(inputId, outputId);\n",
              "  const outputElement = document.getElementById(outputId);\n",
              "  // Cache steps on the outputElement to make it available for the next call\n",
              "  // to uploadFilesContinue from Python.\n",
              "  outputElement.steps = steps;\n",
              "\n",
              "  return _uploadFilesContinue(outputId);\n",
              "}\n",
              "\n",
              "// This is roughly an async generator (not supported in the browser yet),\n",
              "// where there are multiple asynchronous steps and the Python side is going\n",
              "// to poll for completion of each step.\n",
              "// This uses a Promise to block the python side on completion of each step,\n",
              "// then passes the result of the previous step as the input to the next step.\n",
              "function _uploadFilesContinue(outputId) {\n",
              "  const outputElement = document.getElementById(outputId);\n",
              "  const steps = outputElement.steps;\n",
              "\n",
              "  const next = steps.next(outputElement.lastPromiseValue);\n",
              "  return Promise.resolve(next.value.promise).then((value) => {\n",
              "    // Cache the last promise value to make it available to the next\n",
              "    // step of the generator.\n",
              "    outputElement.lastPromiseValue = value;\n",
              "    return next.value.response;\n",
              "  });\n",
              "}\n",
              "\n",
              "/**\n",
              " * Generator function which is called between each async step of the upload\n",
              " * process.\n",
              " * @param {string} inputId Element ID of the input file picker element.\n",
              " * @param {string} outputId Element ID of the output display.\n",
              " * @return {!Iterable<!Object>} Iterable of next steps.\n",
              " */\n",
              "function* uploadFilesStep(inputId, outputId) {\n",
              "  const inputElement = document.getElementById(inputId);\n",
              "  inputElement.disabled = false;\n",
              "\n",
              "  const outputElement = document.getElementById(outputId);\n",
              "  outputElement.innerHTML = '';\n",
              "\n",
              "  const pickedPromise = new Promise((resolve) => {\n",
              "    inputElement.addEventListener('change', (e) => {\n",
              "      resolve(e.target.files);\n",
              "    });\n",
              "  });\n",
              "\n",
              "  const cancel = document.createElement('button');\n",
              "  inputElement.parentElement.appendChild(cancel);\n",
              "  cancel.textContent = 'Cancel upload';\n",
              "  const cancelPromise = new Promise((resolve) => {\n",
              "    cancel.onclick = () => {\n",
              "      resolve(null);\n",
              "    };\n",
              "  });\n",
              "\n",
              "  // Wait for the user to pick the files.\n",
              "  const files = yield {\n",
              "    promise: Promise.race([pickedPromise, cancelPromise]),\n",
              "    response: {\n",
              "      action: 'starting',\n",
              "    }\n",
              "  };\n",
              "\n",
              "  cancel.remove();\n",
              "\n",
              "  // Disable the input element since further picks are not allowed.\n",
              "  inputElement.disabled = true;\n",
              "\n",
              "  if (!files) {\n",
              "    return {\n",
              "      response: {\n",
              "        action: 'complete',\n",
              "      }\n",
              "    };\n",
              "  }\n",
              "\n",
              "  for (const file of files) {\n",
              "    const li = document.createElement('li');\n",
              "    li.append(span(file.name, {fontWeight: 'bold'}));\n",
              "    li.append(span(\n",
              "        `(${file.type || 'n/a'}) - ${file.size} bytes, ` +\n",
              "        `last modified: ${\n",
              "            file.lastModifiedDate ? file.lastModifiedDate.toLocaleDateString() :\n",
              "                                    'n/a'} - `));\n",
              "    const percent = span('0% done');\n",
              "    li.appendChild(percent);\n",
              "\n",
              "    outputElement.appendChild(li);\n",
              "\n",
              "    const fileDataPromise = new Promise((resolve) => {\n",
              "      const reader = new FileReader();\n",
              "      reader.onload = (e) => {\n",
              "        resolve(e.target.result);\n",
              "      };\n",
              "      reader.readAsArrayBuffer(file);\n",
              "    });\n",
              "    // Wait for the data to be ready.\n",
              "    let fileData = yield {\n",
              "      promise: fileDataPromise,\n",
              "      response: {\n",
              "        action: 'continue',\n",
              "      }\n",
              "    };\n",
              "\n",
              "    // Use a chunked sending to avoid message size limits. See b/62115660.\n",
              "    let position = 0;\n",
              "    do {\n",
              "      const length = Math.min(fileData.byteLength - position, MAX_PAYLOAD_SIZE);\n",
              "      const chunk = new Uint8Array(fileData, position, length);\n",
              "      position += length;\n",
              "\n",
              "      const base64 = btoa(String.fromCharCode.apply(null, chunk));\n",
              "      yield {\n",
              "        response: {\n",
              "          action: 'append',\n",
              "          file: file.name,\n",
              "          data: base64,\n",
              "        },\n",
              "      };\n",
              "\n",
              "      let percentDone = fileData.byteLength === 0 ?\n",
              "          100 :\n",
              "          Math.round((position / fileData.byteLength) * 100);\n",
              "      percent.textContent = `${percentDone}% done`;\n",
              "\n",
              "    } while (position < fileData.byteLength);\n",
              "  }\n",
              "\n",
              "  // All done.\n",
              "  yield {\n",
              "    response: {\n",
              "      action: 'complete',\n",
              "    }\n",
              "  };\n",
              "}\n",
              "\n",
              "scope.google = scope.google || {};\n",
              "scope.google.colab = scope.google.colab || {};\n",
              "scope.google.colab._files = {\n",
              "  _uploadFiles,\n",
              "  _uploadFilesContinue,\n",
              "};\n",
              "})(self);\n",
              "</script> "
            ]
          },
          "metadata": {}
        },
        {
          "output_type": "stream",
          "name": "stdout",
          "text": [
            "Saving Resume_MaxsonMathew (3).pdf to Resume_MaxsonMathew (3).pdf\n"
          ]
        }
      ]
    },
    {
      "cell_type": "code",
      "source": [
        "help()"
      ],
      "metadata": {
        "id": "WxRdVWOiLwkC"
      },
      "execution_count": null,
      "outputs": []
    },
    {
      "cell_type": "code",
      "source": [
        "# Extracting text from Resume\n",
        "\n",
        "def extract_text_from_resume(file_path):\n",
        "  doc = fitz.open(file_path)\n",
        "  text_in_resume = \"\"\n",
        "  for page in doc:\n",
        "    text_in_resume = text_in_resume + page.get_text()\n",
        "  return text_in_resume\n",
        "\n",
        "resume_text = extract_text_from_resume(resume_pdf)"
      ],
      "metadata": {
        "id": "7GzaN5ADK700"
      },
      "execution_count": 7,
      "outputs": []
    },
    {
      "cell_type": "code",
      "source": [
        "resume_text"
      ],
      "metadata": {
        "colab": {
          "base_uri": "https://localhost:8080/",
          "height": 244
        },
        "id": "L7dqFg0MVZbD",
        "outputId": "afe48525-98d4-47d2-e351-0abe345bfafa"
      },
      "execution_count": 8,
      "outputs": [
        {
          "output_type": "execute_result",
          "data": {
            "text/plain": [
              "'Maxson Mathew\\n\\x83 +91 8867162414\\n# mailtomaxson@gmail.com\\nï linkedin.com/in/maxson-mathew-9022082b1\\n§ github.com/maxx1404\\nEducation\\nBMS Institute of Technology and Management\\n2022 – Present(Expected 2026)\\nBachelor of Engineering in Artificial Intelligence and Machine Learning, Current CGPA: 9\\nBengaluru, Karnataka\\nLeadership Experience\\nEntrepreneurship Cell, BMSIT&M\\n2024 – Present\\nVice President\\n• Led a 35-member team to organize eight entrepreneurship events, engaging 500+ students while spearheading strategic\\nactivities to foster a startup culture at BMSIT&M.\\nStudent Branch, IEEE BMSIT&M\\nJanuary 2025 – Present\\nEvents Head\\n• Facilitated workshops, tech talks, and member engagements, enhancing collaboration and innovation within the IEEE\\nstudent community.\\nCODE RED ’25, BMSIT&M\\nJanuary 2025\\nOverall Coordinator\\n• Organized a National-Level 25-Hour Hackathon with 200 participants, overseeing marketing, logistics, finance, and\\noperations.\\nProjects\\nAmbulance Distribution System | Python, Streamlit\\nFebruary 2025\\n• Collaborated with IISc Bangalore’s Center of Data for Public Good (CDPG).\\n• Designed an emergency ambulance routing system to minimize response times in Bangalore using graph algorithms.\\nNLP-based Resume Classifier | Python, Streamlit\\nMay 2025\\n• Extracted and preprocessed text from PDF resumes using PyMuPDF and nltk.\\n• Implemented resume-job description similarity scoring using TF-IDF vectorization and cosine similarity.\\n• Deployed as a Streamlit web app with real-time resume matching and user-friendly interface.\\nTechnical Skills\\nLanguages: Python, Java, C, SQL, HTML(basic)\\nDeveloper Tools: VS Code, Jupyter Notebook\\nCertifications:\\n- Software Engineering Fundamentals - Infosys Springboard (Jan 2025)\\n- Data Analysis with ChatGPT - 365 DataScience (Nov 2024)\\n- Prompt Engineering - Infosys Springboard (Oct 2024)\\n- Artificial Intelligence with Python - Infosys Springboard (Jun 2024)\\nCompetitions and Seminars\\n- Won Overall Champion title at Reva University’s National Mathematics Day Competition, December 2022.\\n- Secured 2nd place in AR/VR track at NeuroNova, 12-hour Hackathon for KrishiDrishti - a VR-enabled smart farming\\nsystem for hydroponics.\\n- Finalist at Code Sprint 2.0 (GDSC NMIT) - developed a weather forecasting tool with API integration.\\n- Participated in Cicada 2k24 Hackathon - created a fully responsive website design using Figma under 20 hours.\\nExtracurricular\\nJunior Under Officer, National Cadet Corps\\n2022 – 2025\\n• Achieved 1st and 2nd place in debates at 2nd and 1st NCC camps respectively, delivered presentations, and emceed\\ncultural programs at both camps.\\n• Competed among top cadets in Bangalore’s Best Cadet competition.\\nPoetry Publication\\n2023\\n• Published original poem titled White Orchids in the poetry collection Floating by Writers Community.\\n'"
            ],
            "application/vnd.google.colaboratory.intrinsic+json": {
              "type": "string"
            }
          },
          "metadata": {},
          "execution_count": 8
        }
      ]
    },
    {
      "cell_type": "code",
      "source": [
        "# Pre Process Text\n",
        "nltk.download('stopwords')\n",
        "nltk.download('wordnet')\n",
        "nltk.download('omw-1.4')\n",
        "\n",
        "from nltk.stem import WordNetLemmatizer\n",
        "\n",
        "def preprocess_text(text):\n",
        "  text = re.sub(r'\\W+', ' ', text.lower())\n",
        "  words = text.split()\n",
        "  lemmatizer = WordNetLemmatizer()\n",
        "  words_after_stopwords = []\n",
        "  for w in words:\n",
        "    if w not in stopwords.words('english'):\n",
        "      lemma = lemmatizer.lemmatize(w)\n",
        "      words_after_stopwords.append(lemma)\n",
        "\n",
        "\n",
        "  return ' '.join(words_after_stopwords)\n",
        "\n"
      ],
      "metadata": {
        "colab": {
          "base_uri": "https://localhost:8080/"
        },
        "id": "Ltj6ro3cV2HB",
        "outputId": "081d202c-db33-4a02-bce0-d5bf82b3c3a4"
      },
      "execution_count": 9,
      "outputs": [
        {
          "output_type": "stream",
          "name": "stderr",
          "text": [
            "[nltk_data] Downloading package stopwords to /root/nltk_data...\n",
            "[nltk_data]   Unzipping corpora/stopwords.zip.\n",
            "[nltk_data] Downloading package wordnet to /root/nltk_data...\n",
            "[nltk_data] Downloading package omw-1.4 to /root/nltk_data...\n"
          ]
        }
      ]
    },
    {
      "cell_type": "code",
      "source": [
        "cleaned_resume = preprocess_text(resume_text)\n",
        "cleaned_resume"
      ],
      "metadata": {
        "colab": {
          "base_uri": "https://localhost:8080/",
          "height": 244
        },
        "id": "W0wsAPVnlYwL",
        "outputId": "f5c7e70c-9b52-4f10-cb12-ed61b81dc94b"
      },
      "execution_count": 10,
      "outputs": [
        {
          "output_type": "execute_result",
          "data": {
            "text/plain": [
              "'maxson mathew 91 8867162414 mailtomaxson gmail com ï linkedin com maxson mathew 9022082b1 github com maxx1404 education bm institute technology management 2022 present expected 2026 bachelor engineering artificial intelligence machine learning current cgpa 9 bengaluru karnataka leadership experience entrepreneurship cell bmsit 2024 present vice president led 35 member team organize eight entrepreneurship event engaging 500 student spearheading strategic activity foster startup culture bmsit student branch ieee bmsit january 2025 present event head facilitated workshop tech talk member engagement enhancing collaboration innovation within ieee student community code red 25 bmsit january 2025 overall coordinator organized national level 25 hour hackathon 200 participant overseeing marketing logistics finance operation project ambulance distribution system python streamlit february 2025 collaborated iisc bangalore center data public good cdpg designed emergency ambulance routing system minimize response time bangalore using graph algorithm nlp based resume classifier python streamlit may 2025 extracted preprocessed text pdf resume using pymupdf nltk implemented resume job description similarity scoring using tf idf vectorization cosine similarity deployed streamlit web app real time resume matching user friendly interface technical skill language python java c sql html basic developer tool v code jupyter notebook certification software engineering fundamental infosys springboard jan 2025 data analysis chatgpt 365 datascience nov 2024 prompt engineering infosys springboard oct 2024 artificial intelligence python infosys springboard jun 2024 competition seminar overall champion title reva university national mathematics day competition december 2022 secured 2nd place ar vr track neuronova 12 hour hackathon krishidrishti vr enabled smart farming system hydroponics finalist code sprint 2 0 gdsc nmit developed weather forecasting tool api integration participated cicada 2k24 hackathon created fully responsive website design using figma 20 hour extracurricular junior officer national cadet corp 2022 2025 achieved 1st 2nd place debate 2nd 1st ncc camp respectively delivered presentation emceed cultural program camp competed among top cadet bangalore best cadet competition poetry publication 2023 published original poem titled white orchid poetry collection floating writer community'"
            ],
            "application/vnd.google.colaboratory.intrinsic+json": {
              "type": "string"
            }
          },
          "metadata": {},
          "execution_count": 10
        }
      ]
    },
    {
      "cell_type": "code",
      "source": [
        "# Job description\n",
        "\n",
        "job_description = \"\"\"Looking for an Artificial Intelligence & Machine Learning intern with strong Python skills. Should have worked on ambulance routing, real-time emergency systems, and developed apps in Streamlit. Past collaboration with IISc or CDPG is a plus. Must have led IEEE events and organized hackathons like Code Red 25.\n",
        "\"\"\"\n",
        "\n",
        "cleaned_jd = preprocess_text(job_description)"
      ],
      "metadata": {
        "id": "sQmrboBMmc4z"
      },
      "execution_count": 48,
      "outputs": []
    },
    {
      "cell_type": "code",
      "source": [
        "cleaned_jd"
      ],
      "metadata": {
        "colab": {
          "base_uri": "https://localhost:8080/",
          "height": 88
        },
        "id": "ba9j6xE0nXJc",
        "outputId": "9067250d-a5ce-4444-f994-933a492ed389"
      },
      "execution_count": 49,
      "outputs": [
        {
          "output_type": "execute_result",
          "data": {
            "text/plain": [
              "'looking artificial intelligence machine learning intern strong python skill worked ambulance routing real time emergency system developed apps streamlit past collaboration iisc cdpg plus must led ieee event organized hackathons like code red 25'"
            ],
            "application/vnd.google.colaboratory.intrinsic+json": {
              "type": "string"
            }
          },
          "metadata": {},
          "execution_count": 49
        }
      ]
    },
    {
      "cell_type": "code",
      "source": [
        "from sklearn.feature_extraction.text import TfidfVectorizer\n",
        "from sklearn.metrics.pairwise import cosine_similarity"
      ],
      "metadata": {
        "id": "5HaoAW2rnYV8"
      },
      "execution_count": 50,
      "outputs": []
    },
    {
      "cell_type": "code",
      "source": [
        "corpus = [cleaned_resume, cleaned_jd]\n",
        "vectorizer = TfidfVectorizer()\n",
        "tfidf_matrix = vectorizer.fit_transform(corpus)\n",
        "similarity_scores = cosine_similarity(tfidf_matrix[0], tfidf_matrix[1][0])\n"
      ],
      "metadata": {
        "id": "T26mIr56-ey9"
      },
      "execution_count": 51,
      "outputs": []
    },
    {
      "cell_type": "code",
      "source": [
        "print(similarity_scores)"
      ],
      "metadata": {
        "colab": {
          "base_uri": "https://localhost:8080/"
        },
        "id": "qU3yw4z6_8DG",
        "outputId": "f20e4ce0-4edb-45b5-d693-597c31532fcd"
      },
      "execution_count": 52,
      "outputs": [
        {
          "output_type": "stream",
          "name": "stdout",
          "text": [
            "[[0.19117636]]\n"
          ]
        }
      ]
    },
    {
      "cell_type": "markdown",
      "source": [],
      "metadata": {
        "id": "FpNwjFS1DOgd"
      }
    },
    {
      "cell_type": "code",
      "source": [],
      "metadata": {
        "id": "pm5ebQc9DlwL"
      },
      "execution_count": null,
      "outputs": []
    },
    {
      "cell_type": "code",
      "source": [],
      "metadata": {
        "id": "hah75bmaAHqN"
      },
      "execution_count": 35,
      "outputs": []
    },
    {
      "cell_type": "code",
      "source": [],
      "metadata": {
        "id": "qDFnyulrCvG_"
      },
      "execution_count": null,
      "outputs": []
    }
  ]
}